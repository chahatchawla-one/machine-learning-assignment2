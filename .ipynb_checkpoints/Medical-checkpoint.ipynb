{
 "cells": [
  {
   "cell_type": "markdown",
   "metadata": {},
   "source": [
    "# Load the libraries"
   ]
  },
  {
   "cell_type": "code",
   "execution_count": 1,
   "metadata": {},
   "outputs": [],
   "source": [
    "%matplotlib notebook\n",
    "import numpy as np\n",
    "import pandas as pd\n",
    "import matplotlib.pyplot as plt\n",
    "from mpl_toolkits.mplot3d import Axes3D\n",
    "import seaborn as sns\n",
    "import warnings\n",
    "warnings.filterwarnings(\"ignore\")\n",
    "\n",
    "from Modules.Metrics import Accuracy, Precision, Recall, F1score\n",
    "from Modules.SupervisedLearning import LogisticRegression, SoftmaxRegression"
   ]
  },
  {
   "cell_type": "markdown",
   "metadata": {},
   "source": [
    "# Load Medical dataset"
   ]
  },
  {
   "cell_type": "code",
   "execution_count": 2,
   "metadata": {},
   "outputs": [],
   "source": [
    "def LoadData(type = \"Standardized\"):\n",
    "    medical_data = pd.read_csv(\"data/Medical_data.csv\")\n",
    "    medical_data_test = pd.read_csv(\"data/test_medical.csv\")\n",
    "\n",
    "    x = medical_data.drop(\"Health\", axis = 1).values\n",
    "    y = medical_data[\"Health\"].values\n",
    "    xt = medical_data_test.drop(\"Health\",axis = 1).values\n",
    "    yt = medical_data_test[\"Health\"].values\n",
    "\n",
    "    if(type == \"Standardized\"):\n",
    "        train_mu = x.mean(axis = 0)\n",
    "        train_sigma = np.sqrt(x.var(axis = 0))\n",
    "\n",
    "        x_ = (x - train_mu) / train_sigma\n",
    "\n",
    "        x_train = x_\n",
    "        y_train = y.copy()\n",
    "\n",
    "        x_test = (xt.copy() - train_mu) / train_sigma\n",
    "        y_test = yt.copy()\n",
    "    else:\n",
    "        x_train = x\n",
    "        y_train = y\n",
    "\n",
    "        x_test = xt\n",
    "        y_test = yt\n",
    "    \n",
    "    y_ = y_train.copy()\n",
    "    y_[y_ == \"HEALTHY\"] = 0\n",
    "    y_[y_ == \"SURGERY\"] = 1\n",
    "    y_[y_ == \"MEDICATION\"] = 2\n",
    "\n",
    "    return medical_data, x_train, y_train, x_test, y_test, y_\n",
    "\n",
    "medical_data, x_train, y_train, x_test, y_test, y_ = LoadData()"
   ]
  },
  {
   "cell_type": "markdown",
   "metadata": {},
   "source": [
    "# Logistic regression (without regularization)"
   ]
  },
  {
   "cell_type": "code",
   "execution_count": 3,
   "metadata": {},
   "outputs": [],
   "source": [
    "x_train_ = np.concatenate([x_train, x_train ** 2, x_train ** 4], axis = 1)\n",
    "x_test_ = np.concatenate([x_test, x_test ** 2, x_test ** 4], axis = 1)"
   ]
  },
  {
   "cell_type": "code",
   "execution_count": 4,
   "metadata": {},
   "outputs": [
    {
     "data": {
      "text/plain": [
       "0.8933333333333333"
      ]
     },
     "execution_count": 4,
     "metadata": {},
     "output_type": "execute_result"
    }
   ],
   "source": [
    "classifier = LogisticRegression()\n",
    "classifier.Fit(x_train_, y_train, iterations = 10000)\n",
    "predictions = classifier.Predict(x_test_, y_test)\n",
    "Accuracy(predictions, y_test)"
   ]
  },
  {
   "cell_type": "markdown",
   "metadata": {},
   "source": [
    "# Logistic regression (with regularization)"
   ]
  },
  {
   "cell_type": "code",
   "execution_count": 5,
   "metadata": {},
   "outputs": [
    {
     "data": {
      "text/plain": [
       "0.8896666666666667"
      ]
     },
     "execution_count": 5,
     "metadata": {},
     "output_type": "execute_result"
    }
   ],
   "source": [
    "classifier = LogisticRegression(regularize = True)\n",
    "classifier.Fit(x_train_, y_train, iterations = 10000, alpha = 0.001)\n",
    "predictions = classifier.Predict(x_test_)\n",
    "Accuracy(predictions, y_test)"
   ]
  },
  {
   "cell_type": "markdown",
   "metadata": {},
   "source": [
    "# Softmax regression"
   ]
  },
  {
   "cell_type": "code",
   "execution_count": 6,
   "metadata": {},
   "outputs": [
    {
     "data": {
      "text/plain": [
       "0.8966666666666666"
      ]
     },
     "execution_count": 6,
     "metadata": {},
     "output_type": "execute_result"
    }
   ],
   "source": [
    "classifier = SoftmaxRegression()\n",
    "classifier.Fit(x_train_, y_train, iterations = 1000)\n",
    "predictions = classifier.Predict(x_test_)\n",
    "Accuracy(predictions, y_test)"
   ]
  }
 ],
 "metadata": {
  "kernelspec": {
   "display_name": "Python 3",
   "language": "python",
   "name": "python3"
  },
  "language_info": {
   "codemirror_mode": {
    "name": "ipython",
    "version": 3
   },
   "file_extension": ".py",
   "mimetype": "text/x-python",
   "name": "python",
   "nbconvert_exporter": "python",
   "pygments_lexer": "ipython3",
   "version": "3.6.6"
  }
 },
 "nbformat": 4,
 "nbformat_minor": 2
}
